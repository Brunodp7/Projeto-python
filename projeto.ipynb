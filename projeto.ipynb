{
 "cells": [
  {
   "cell_type": "code",
   "execution_count": 3,
   "metadata": {},
   "outputs": [
    {
     "name": "stdout",
     "output_type": "stream",
     "text": [
      "sistema de nota de aluno \n",
      "\n",
      "aluno passou, a nota é  6.0\n"
     ]
    }
   ],
   "source": [
    "print('sistema de nota de aluno \\n')\n",
    "nota1 = int(input('Digite a primeira nota \\n'))\n",
    "nota2 = int(input('Digite a segunda nota \\n'))\n",
    "\n",
    "media = (nota1 + nota2)/2\n",
    "\n",
    "if media >=6:\n",
    "    print('aluno passou, a nota é ', media)\n",
    "else:\n",
    "    print('aluno reprovou, a nota é:', media)\n",
    "    "
   ]
  }
 ],
 "metadata": {
  "kernelspec": {
   "display_name": "Python 3",
   "language": "python",
   "name": "python3"
  },
  "language_info": {
   "codemirror_mode": {
    "name": "ipython",
    "version": 3
   },
   "file_extension": ".py",
   "mimetype": "text/x-python",
   "name": "python",
   "nbconvert_exporter": "python",
   "pygments_lexer": "ipython3",
   "version": "3.12.3"
  }
 },
 "nbformat": 4,
 "nbformat_minor": 2
}
